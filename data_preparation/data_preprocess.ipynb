{
 "cells": [
  {
   "cell_type": "markdown",
   "metadata": {},
   "source": [
    "Примерная структура представления данных с объявлений для последующего дообучения модели."
   ]
  },
  {
   "cell_type": "code",
   "execution_count": 1,
   "metadata": {},
   "outputs": [
    {
     "data": {
      "text/plain": [
       "{'context': {'title': 'Кокоби (кокон для сна)',\n",
       "  'description': 'Кокон для сна малыша, пользовались меньше месяца. цвет серый',\n",
       "  'attributes': 'Постельные принадлежности, Товары для детей',\n",
       "  'price': 400.0},\n",
       " 'qas': [{'question': 'Какого размера кокон?',\n",
       "   'answers': ['Кокон подходит для детей до 1 года.']},\n",
       "  {'question': 'Какое состояние товара?',\n",
       "   'answers': ['Товар в отличном состоянии, использовался меньше месяца.']}]}"
      ]
     },
     "execution_count": 1,
     "metadata": {},
     "output_type": "execute_result"
    }
   ],
   "source": [
    "{\n",
    "    \"context\": {\n",
    "        \"title\": \"Кокоби (кокон для сна)\",\n",
    "        \"description\": \"Кокон для сна малыша, пользовались меньше месяца. цвет серый\",\n",
    "        \"attributes\": \"Постельные принадлежности, Товары для детей\",\n",
    "        \"price\": 400.0\n",
    "    },\n",
    "    \"qas\": [\n",
    "        {\n",
    "            \"question\": \"Какого размера кокон?\",\n",
    "            \"answers\": [\"Кокон подходит для детей до 1 года.\"]\n",
    "        },\n",
    "        {\n",
    "            \"question\": \"Какое состояние товара?\",\n",
    "            \"answers\": [\"Товар в отличном состоянии, использовался меньше месяца.\"]\n",
    "        }\n",
    "    ]\n",
    "}\n"
   ]
  },
  {
   "cell_type": "markdown",
   "metadata": {},
   "source": [
    "Подготовка данных для аугментации вопросами и ответами"
   ]
  },
  {
   "cell_type": "code",
   "execution_count": 1,
   "metadata": {},
   "outputs": [],
   "source": [
    "import pandas as pd\n",
    "\n",
    "# load data\n",
    "file_path = \"train_processed.csv\" \n",
    "data = pd.read_csv(file_path, delimiter=\",\", quotechar='\"', skip_blank_lines=True, engine='python')"
   ]
  },
  {
   "cell_type": "code",
   "execution_count": 2,
   "metadata": {},
   "outputs": [
    {
     "name": "stdout",
     "output_type": "stream",
     "text": [
      "б/у \n",
      "Geoby \n",
      "В хорошем соcстоянbии \n",
      "2 блока \n",
      "Насос в комплекте,сумка для мамы -,дождевик. \n",
      "Торг\n"
     ]
    }
   ],
   "source": [
    "import re\n",
    "\n",
    "description = 'Б / у  / \\n\\n\\n\\nGeoby / \\nВ хорош**********ем                     соccccccccccccстоянbbbbbbии / \\n\\n\\n\\n\\n2 блока / \\nНасос в ком////////плекте,,,,,,,,,,сумка для мамы ---------------,дождевик. / \\nТорг'\n",
    "\n",
    "def preprocess_text(text):\n",
    "    text = re.sub(r'\\b[бБ][\\s*/\\\\]*[уУ]\\b', '[BU/USED]', text)\n",
    "    text = re.sub(r'(?<!\\[BU)\\/(?!USED\\])', '', text)\n",
    "    text = text.replace('[BU/USED]', 'б/у')\n",
    "\n",
    "    text = re.sub(r'[\\u200b\\ufeff]', '', text)\n",
    "\n",
    "    text = re.sub(r'\\n{2,}', '\\n', text)\n",
    "\n",
    "    text = re.sub(r'[ \\t]+', ' ', text)\n",
    "\n",
    "\n",
    "    text = re.sub(r'([=<>|*#★۩]){2,}', '', text) \n",
    "    text = re.sub(r'[⇒⇘⇓⇙⇓=⇙➚ஜ═_↓]', '', text)\n",
    "\n",
    "    text = re.sub(r'(.)\\1{2,}', r'\\1', text)\n",
    "\n",
    "    text = text.strip()\n",
    "\n",
    "    return text\n",
    "\n",
    "\n",
    "\n",
    "cleaned_text = preprocess_text(description)\n",
    "print(cleaned_text)"
   ]
  },
  {
   "cell_type": "code",
   "execution_count": 3,
   "metadata": {},
   "outputs": [
    {
     "data": {
      "text/html": [
       "<div>\n",
       "<style scoped>\n",
       "    .dataframe tbody tr th:only-of-type {\n",
       "        vertical-align: middle;\n",
       "    }\n",
       "\n",
       "    .dataframe tbody tr th {\n",
       "        vertical-align: top;\n",
       "    }\n",
       "\n",
       "    .dataframe thead th {\n",
       "        text-align: right;\n",
       "    }\n",
       "</style>\n",
       "<table border=\"1\" class=\"dataframe\">\n",
       "  <thead>\n",
       "    <tr style=\"text-align: right;\">\n",
       "      <th></th>\n",
       "      <th>item_id</th>\n",
       "      <th>user_id</th>\n",
       "      <th>region</th>\n",
       "      <th>city</th>\n",
       "      <th>parent_category_name</th>\n",
       "      <th>category_name</th>\n",
       "      <th>param_1</th>\n",
       "      <th>param_2</th>\n",
       "      <th>param_3</th>\n",
       "      <th>title</th>\n",
       "      <th>description</th>\n",
       "      <th>price</th>\n",
       "      <th>item_seq_number</th>\n",
       "      <th>activation_date</th>\n",
       "      <th>user_type</th>\n",
       "      <th>image</th>\n",
       "      <th>image_top_1</th>\n",
       "      <th>deal_probability</th>\n",
       "      <th>description_tokens</th>\n",
       "    </tr>\n",
       "  </thead>\n",
       "  <tbody>\n",
       "    <tr>\n",
       "      <th>45074</th>\n",
       "      <td>51575d2fe7db</td>\n",
       "      <td>1a13f6aa1f23</td>\n",
       "      <td>Волгоградская область</td>\n",
       "      <td>Волгоград</td>\n",
       "      <td>Личные вещи</td>\n",
       "      <td>Детская одежда и обувь</td>\n",
       "      <td>Для девочек</td>\n",
       "      <td>Обувь</td>\n",
       "      <td>29</td>\n",
       "      <td>Отдам зимние сапоги 29р-р</td>\n",
       "      <td>Адидас.высокие</td>\n",
       "      <td>NaN</td>\n",
       "      <td>59</td>\n",
       "      <td>2017-03-19</td>\n",
       "      <td>Private</td>\n",
       "      <td>baeeb574bcfbbfbeaf87edde89916dd4dcb912b69505ee...</td>\n",
       "      <td>471.0</td>\n",
       "      <td>0.80323</td>\n",
       "      <td>9</td>\n",
       "    </tr>\n",
       "    <tr>\n",
       "      <th>1153444</th>\n",
       "      <td>7ee422258821</td>\n",
       "      <td>a2e79eace24b</td>\n",
       "      <td>Пермский край</td>\n",
       "      <td>Пермь</td>\n",
       "      <td>Недвижимость</td>\n",
       "      <td>Квартиры</td>\n",
       "      <td>Продам</td>\n",
       "      <td>1</td>\n",
       "      <td>Новостройка</td>\n",
       "      <td>1-к квартира, 38 м², 13/25 эт.</td>\n",
       "      <td>ЖК «Триумф Квартал II» – современный жилой ком...</td>\n",
       "      <td>1450000.0</td>\n",
       "      <td>735</td>\n",
       "      <td>2017-03-17</td>\n",
       "      <td>Shop</td>\n",
       "      <td>d26c93991a530c5c70be96ec4754380ed813c32e0c0b5e...</td>\n",
       "      <td>2221.0</td>\n",
       "      <td>0.00000</td>\n",
       "      <td>184</td>\n",
       "    </tr>\n",
       "    <tr>\n",
       "      <th>699404</th>\n",
       "      <td>8039af6bc8b1</td>\n",
       "      <td>841777d45567</td>\n",
       "      <td>Иркутская область</td>\n",
       "      <td>Иркутск</td>\n",
       "      <td>Для дома и дачи</td>\n",
       "      <td>Бытовая техника</td>\n",
       "      <td>Для кухни</td>\n",
       "      <td>Холодильники и морозильные камеры</td>\n",
       "      <td>NaN</td>\n",
       "      <td>Морозильная камера Саратов 21.03</td>\n",
       "      <td>Продажа: морозильная камера в хорошем , рабоче...</td>\n",
       "      <td>5000.0</td>\n",
       "      <td>10181</td>\n",
       "      <td>2017-03-21</td>\n",
       "      <td>Shop</td>\n",
       "      <td>65d18c87f8946cd74b7b0cf38d4f01b6951387e88aaa7d...</td>\n",
       "      <td>1794.0</td>\n",
       "      <td>0.28106</td>\n",
       "      <td>104</td>\n",
       "    </tr>\n",
       "    <tr>\n",
       "      <th>479306</th>\n",
       "      <td>095ec9943a1f</td>\n",
       "      <td>35cc987e45c3</td>\n",
       "      <td>Пермский край</td>\n",
       "      <td>Пермь</td>\n",
       "      <td>Личные вещи</td>\n",
       "      <td>Товары для детей и игрушки</td>\n",
       "      <td>Игрушки</td>\n",
       "      <td>NaN</td>\n",
       "      <td>NaN</td>\n",
       "      <td>Детский игровой набор Sylvanian Families</td>\n",
       "      <td>Набор оригинальный\\nСостояние идеальное\\nВозмо...</td>\n",
       "      <td>500.0</td>\n",
       "      <td>101</td>\n",
       "      <td>2017-03-23</td>\n",
       "      <td>Company</td>\n",
       "      <td>7cf696b434951ea6afd07efab97737745257be405d0c5b...</td>\n",
       "      <td>892.0</td>\n",
       "      <td>0.00000</td>\n",
       "      <td>37</td>\n",
       "    </tr>\n",
       "    <tr>\n",
       "      <th>1085050</th>\n",
       "      <td>6c44e7508b8f</td>\n",
       "      <td>28211a90fc84</td>\n",
       "      <td>Волгоградская область</td>\n",
       "      <td>Волжский</td>\n",
       "      <td>Для дома и дачи</td>\n",
       "      <td>Посуда и товары для кухни</td>\n",
       "      <td>Товары для кухни</td>\n",
       "      <td>NaN</td>\n",
       "      <td>NaN</td>\n",
       "      <td>Хлебница</td>\n",
       "      <td>Хлебница деревянная.</td>\n",
       "      <td>150.0</td>\n",
       "      <td>76</td>\n",
       "      <td>2017-03-22</td>\n",
       "      <td>Private</td>\n",
       "      <td>9e4aa2789c43a9a7b050b2db678a2466a1a2055715a948...</td>\n",
       "      <td>1701.0</td>\n",
       "      <td>0.00000</td>\n",
       "      <td>8</td>\n",
       "    </tr>\n",
       "  </tbody>\n",
       "</table>\n",
       "</div>"
      ],
      "text/plain": [
       "              item_id       user_id                 region       city  \\\n",
       "45074    51575d2fe7db  1a13f6aa1f23  Волгоградская область  Волгоград   \n",
       "1153444  7ee422258821  a2e79eace24b          Пермский край      Пермь   \n",
       "699404   8039af6bc8b1  841777d45567      Иркутская область    Иркутск   \n",
       "479306   095ec9943a1f  35cc987e45c3          Пермский край      Пермь   \n",
       "1085050  6c44e7508b8f  28211a90fc84  Волгоградская область   Волжский   \n",
       "\n",
       "        parent_category_name               category_name           param_1  \\\n",
       "45074            Личные вещи      Детская одежда и обувь       Для девочек   \n",
       "1153444         Недвижимость                    Квартиры            Продам   \n",
       "699404       Для дома и дачи             Бытовая техника         Для кухни   \n",
       "479306           Личные вещи  Товары для детей и игрушки           Игрушки   \n",
       "1085050      Для дома и дачи   Посуда и товары для кухни  Товары для кухни   \n",
       "\n",
       "                                   param_2      param_3  \\\n",
       "45074                                Обувь           29   \n",
       "1153444                                  1  Новостройка   \n",
       "699404   Холодильники и морозильные камеры          NaN   \n",
       "479306                                 NaN          NaN   \n",
       "1085050                                NaN          NaN   \n",
       "\n",
       "                                            title  \\\n",
       "45074                   Отдам зимние сапоги 29р-р   \n",
       "1153444            1-к квартира, 38 м², 13/25 эт.   \n",
       "699404           Морозильная камера Саратов 21.03   \n",
       "479306   Детский игровой набор Sylvanian Families   \n",
       "1085050                                  Хлебница   \n",
       "\n",
       "                                               description      price  \\\n",
       "45074                                       Адидас.высокие        NaN   \n",
       "1153444  ЖК «Триумф Квартал II» – современный жилой ком...  1450000.0   \n",
       "699404   Продажа: морозильная камера в хорошем , рабоче...     5000.0   \n",
       "479306   Набор оригинальный\\nСостояние идеальное\\nВозмо...      500.0   \n",
       "1085050                               Хлебница деревянная.      150.0   \n",
       "\n",
       "         item_seq_number activation_date user_type  \\\n",
       "45074                 59      2017-03-19   Private   \n",
       "1153444              735      2017-03-17      Shop   \n",
       "699404             10181      2017-03-21      Shop   \n",
       "479306               101      2017-03-23   Company   \n",
       "1085050               76      2017-03-22   Private   \n",
       "\n",
       "                                                     image  image_top_1  \\\n",
       "45074    baeeb574bcfbbfbeaf87edde89916dd4dcb912b69505ee...        471.0   \n",
       "1153444  d26c93991a530c5c70be96ec4754380ed813c32e0c0b5e...       2221.0   \n",
       "699404   65d18c87f8946cd74b7b0cf38d4f01b6951387e88aaa7d...       1794.0   \n",
       "479306   7cf696b434951ea6afd07efab97737745257be405d0c5b...        892.0   \n",
       "1085050  9e4aa2789c43a9a7b050b2db678a2466a1a2055715a948...       1701.0   \n",
       "\n",
       "         deal_probability  description_tokens  \n",
       "45074             0.80323                   9  \n",
       "1153444           0.00000                 184  \n",
       "699404            0.28106                 104  \n",
       "479306            0.00000                  37  \n",
       "1085050           0.00000                   8  "
      ]
     },
     "execution_count": 3,
     "metadata": {},
     "output_type": "execute_result"
    }
   ],
   "source": [
    "data.sample(5)"
   ]
  },
  {
   "cell_type": "markdown",
   "metadata": {},
   "source": [
    "Подсчет токенов в датасете на данный момент по релевантным колонкам"
   ]
  },
  {
   "cell_type": "code",
   "execution_count": 4,
   "metadata": {},
   "outputs": [
    {
     "name": "stdout",
     "output_type": "stream",
     "text": [
      "description\n",
      "False    1329031\n",
      "Name: count, dtype: int64\n"
     ]
    }
   ],
   "source": [
    "data = data[(data['title'].notnull()) & (data['description'].notnull()) & \n",
    "            (data['param_1'].notnull())]\n",
    "print(data['description'].isna().value_counts())"
   ]
  },
  {
   "cell_type": "code",
   "execution_count": 5,
   "metadata": {},
   "outputs": [],
   "source": [
    "data['description'] = data['description'].apply(preprocess_text)"
   ]
  },
  {
   "cell_type": "code",
   "execution_count": 73,
   "metadata": {},
   "outputs": [],
   "source": [
    "data['price'] = data['price'].fillna(\"?\")"
   ]
  },
  {
   "cell_type": "code",
   "execution_count": 4,
   "metadata": {},
   "outputs": [],
   "source": [
    "from transformers import AutoTokenizer\n",
    "\n",
    "tokenizer = AutoTokenizer.from_pretrained('Qwen/Qwen2.5-1.5B')\n",
    "\n",
    "def count_tokens(text):\n",
    "    tokens = tokenizer.encode(text, add_special_tokens=False)\n",
    "    return len(tokens)\n",
    "\n",
    "# data['description_tokens'] = data['description'].apply(count_tokens)"
   ]
  },
  {
   "cell_type": "code",
   "execution_count": 7,
   "metadata": {},
   "outputs": [],
   "source": [
    "# save data \n",
    "# data.to_csv('train_processed.csv', index=False)"
   ]
  },
  {
   "cell_type": "code",
   "execution_count": 5,
   "metadata": {},
   "outputs": [
    {
     "data": {
      "text/plain": [
       "116477539"
      ]
     },
     "execution_count": 5,
     "metadata": {},
     "output_type": "execute_result"
    }
   ],
   "source": [
    "# приблизительная сумма токенов категорий и описаний в имеющемся датасете\n",
    "len(data) * 13 + data['description_tokens'].sum()"
   ]
  },
  {
   "cell_type": "markdown",
   "metadata": {},
   "source": [
    "Для fine-tune модели с 3B параметров, оптимальным будет являться объем обучающей выборки в ~3М токенов. В датасете имеется ~117М токенов.   \n",
    "Это значительно больше, чем необходимо для решения поставленной задачи. Тогда, попробуем отобрать среди объявлений только\n",
    "самые качественные и содержательные для дообучения модели."
   ]
  },
  {
   "cell_type": "markdown",
   "metadata": {},
   "source": [
    "(Некоторое обоснование)   \n",
    "Для таких моделей как LLaMA, Mistral, часто используются датасеты объемом от 3 до 10 миллионов токенов для выполнения стандартных задач fine-tuning.   \n",
    "\n",
    "При этом, в литературе и документации Hugging Face и OpenAI указывается, что для моделей в диапазоне 1-10B, оптимальным количеством токенов, которое модель \"увидела\" в ходе обучения, является порядка 50-100М токенов."
   ]
  },
  {
   "cell_type": "markdown",
   "metadata": {},
   "source": [
    "Критерии, которые мы будем использовать для отбора объявлений:    \n",
    "1. Полнота объявлений: заполнены все основные поля (title, description, category, attributes)    \n",
    "2. Длина текста: будем выбирать объявления с достаточной длиной description (не менее, например, 100 слов), чтобы исключить короткие описания   \n",
    "3. Шумные объявления: убрать объявления с большим числом опечаток, рекламных фраз или лишней информации, которая не имеет к товару отношения   \n",
    "(это могут быть, например, ссылки)    \n",
    "4. Дублирующиеся объявления: дублирующиеся или очень похожие объявления можно убрать    \n",
    "5. Семантическое наполнение: базовая оценка качества на основе синтаксиса, частоты повторения слов, ясности текста и т.д. "
   ]
  },
  {
   "cell_type": "code",
   "execution_count": 6,
   "metadata": {},
   "outputs": [
    {
     "data": {
      "image/png": "[encoded data removed]",
      "text/plain": [
       "<Figure size 1200x600 with 1 Axes>"
      ]
     },
     "metadata": {},
     "output_type": "display_data"
    }
   ],
   "source": [
    "from matplotlib import pyplot as plt\n",
    "\n",
    "bins = [0, 10, 30, 60, 100, 130, 200, 300, 400, 500, 1000, 1500, 2000, 3000]\n",
    "\n",
    "data['token_bins'] = pd.cut(data['description_tokens'], bins=bins, right=False)\n",
    "\n",
    "token_distribution = data['token_bins'].value_counts(normalize=True).sort_index() * 100\n",
    "\n",
    "plt.figure(figsize=(12, 6))\n",
    "plt.bar(token_distribution.index.astype(str), token_distribution.values, color='skyblue')\n",
    "plt.xlabel(\"Диапазоны количества токенов в description\")\n",
    "plt.ylabel(\"Процент объявлений (%)\")\n",
    "plt.title(\"Распределение количества токенов в description по диапазонам\")\n",
    "plt.xticks(rotation=45) \n",
    "plt.grid(axis='y')\n",
    "plt.show()"
   ]
  },
  {
   "cell_type": "code",
   "execution_count": 7,
   "metadata": {},
   "outputs": [
    {
     "data": {
      "text/plain": [
       "25668683"
      ]
     },
     "execution_count": 7,
     "metadata": {},
     "output_type": "execute_result"
    }
   ],
   "source": [
    "data[(data['description_tokens'] > 200) & (data['description_tokens'] < 500)]['description_tokens'].sum(axis=0)"
   ]
  },
  {
   "cell_type": "code",
   "execution_count": 8,
   "metadata": {},
   "outputs": [],
   "source": [
    "def lexical_diversity(text):\n",
    "    if pd.isnull(text):\n",
    "        return 0\n",
    "    words = text.split()\n",
    "    if len(words) == 0:\n",
    "        return 0\n",
    "    unique_words = set(words)\n",
    "    return len(unique_words) / len(words)\n",
    "\n",
    "# подсчет лексического разнообразия в выборке\n",
    "data['lexical_diversity'] = data['description'].apply(lexical_diversity)"
   ]
  },
  {
   "cell_type": "code",
   "execution_count": 9,
   "metadata": {},
   "outputs": [
    {
     "name": "stdout",
     "output_type": "stream",
     "text": [
      "число токенов по описаниям в получившемся наборе данных:  31313187\n"
     ]
    }
   ],
   "source": [
    "# отсев коротких по описанию объявлений, а также объявлений с низким лексическим разнообразием \n",
    "# данные с лексическим разнообразием ниже 0.6, а особенно 0.5, часто содержат очень много повторяющихся слов, имеют неинформативную структуру\n",
    "# лучше не включать такие данные в выборку для finetune модели\n",
    "print(\"число токенов по описаниям в получившемся наборе данных: \", \\\n",
    "      data[(data['lexical_diversity'] > 0.6) & (data['description_tokens'] > 250)]['description_tokens'].sum())\n",
    "data = data[(data['lexical_diversity'] > 0.6) & (data['description_tokens'] > 250)]"
   ]
  },
  {
   "cell_type": "markdown",
   "metadata": {},
   "source": [
    "Датасет все еще содержит больше токенов, чем нужно. Попробуем отобрать данные при помощи предобученной на русскоязычных датасетах LLM.\n",
    "Будем выбирать данные, имеющие наибольшее правдоподобие (log_likelihood)"
   ]
  },
  {
   "cell_type": "code",
   "execution_count": 6,
   "metadata": {},
   "outputs": [],
   "source": [
    "from transformers import GPT2LMHeadModel, GPT2Tokenizer\n",
    "import torch\n",
    "from transformers import GPT2Tokenizer, GPT2LMHeadModel\n",
    "\n",
    "model_name = \"sberbank-ai/rugpt3small_based_on_gpt2\"\n",
    "tokenizer = GPT2Tokenizer.from_pretrained(model_name)\n",
    "model = GPT2LMHeadModel.from_pretrained(model_name)\n",
    "\n",
    "device = torch.device(\"cuda\" if torch.cuda.is_available() else \"cpu\")\n",
    "model.to(device)\n",
    "\n",
    "\n",
    "def calculate_perplexity(text):\n",
    "    inputs = tokenizer(text, return_tensors=\"pt\", max_length=512, truncation=True)\n",
    "    inputs = {key: value.to(device) for key, value in inputs.items()}\n",
    "\n",
    "    with torch.no_grad():\n",
    "        outputs = model(**inputs, labels=inputs[\"input_ids\"])\n",
    "        loss = outputs.loss \n",
    "        perplexity = torch.exp(loss) \n",
    "\n",
    "    return perplexity.item()\n",
    "\n",
    "def calculate_log_likelihood(text):\n",
    "    inputs = tokenizer(text, return_tensors=\"pt\", max_length=512, truncation=True)\n",
    "    inputs = {key: value.to(device) for key, value in inputs.items()}\n",
    "\n",
    "    with torch.no_grad():\n",
    "        outputs = model(**inputs, labels=inputs[\"input_ids\"])\n",
    "        log_likelihood = -outputs.loss * inputs[\"input_ids\"].size(1)\n",
    "    return log_likelihood.item()"
   ]
  },
  {
   "cell_type": "code",
   "execution_count": 14,
   "metadata": {},
   "outputs": [],
   "source": [
    "# little_data = data[:1000]\n",
    "data['loglikelihood'] = data['description'].apply(calculate_log_likelihood)"
   ]
  },
  {
   "cell_type": "code",
   "execution_count": null,
   "metadata": {},
   "outputs": [],
   "source": [
    "# data.to_csv(\"train_loglikelihood.csv\", index=False, encoding='utf-8')"
   ]
  },
  {
   "cell_type": "code",
   "execution_count": 73,
   "metadata": {},
   "outputs": [
    {
     "name": "stdout",
     "output_type": "stream",
     "text": [
      "loglikelihood\n",
      "False    83807\n",
      "True      3813\n",
      "Name: count, dtype: int64\n",
      "Тур во Вьетнам (Фантьет) на 11 ночей/\n",
      "Вылет 13.04.2017 из Москвы/\n",
      "Отель Bavico Boutique Resort Muine 3*/\n",
      "В стоимость тура включен:/\n",
      "прямой перелет в обе стороны, питание (ЗАВТРАК), трансфер, проживание, медицинская страховка/\n",
      " /\n",
      "* Цена указана за одного человека при двухместном размещении./\n",
      " /\n",
      "=====================================/\n",
      " /\n",
      "Продажа через турагенство Vista *****Туры от бюджетного до элитного уровня.Все включено + качественное обслуживание, вежливые менеджеры + хорошее настроение./\n",
      "*******************************************************************************/\n",
      "Гарантия адекватных цен обеспечивает работа напрямую с надежными операторами Anex..Tez Tour..Sunmar..Pegas..Coral Travel.Вы получите максимальную скидку от цены на сайте оператора/\n",
      "Оформление тура возможно удаленно, посетить офис нужно только один раз, когда оплачивать подтвержденный тур. Подберем тур под ваши пожелания, большой ассортимент предложений по отдыху по России , Турции, Египет,ОАО,Тунис,Болгарии, Индии./\n",
      "В стоимость тура входит: Авиаперелет, Трансфер, Отель (питание: на выбор), Страховка/\n",
      "• Стоимость на другие даты может быть ниже, уточняйте по телефону/\n",
      "• На данный тур предоставляется рассрочка или кредит/\n",
      "====================================================/\n",
      "ПОЧЕМУ СТОИТ ОБРАТИТЬСЯ ИМЕННО К НАМ?/\n",
      "✔ Индивидуальный подход к каждому путешественнику/\n",
      "✔ Круглосуточное бронирование/\n",
      "✔ Возможность оформить тур в офисе, онлайн или через курьера./\n",
      "✔ Большой выбор пакетных и индивидуальных туров/\n",
      "✔ Рекомендации отелей основываются на личном опыте и отзывах наших туристов./\n",
      "✔ Дешевле, чем у нас - просто не найдете!/\n",
      "====================================================/\n",
      "АДРЕС ОФИСА:/\n",
      "Ост.рынок Квадро/\n",
      "ТЦ Северный 2 этаж,Vista tour/\n",
      "Режим работы офиса:/\n",
      "Пн-Пт с 09:00 до 20:00 (без обеда)/\n",
      "прием звонков и заявок без выходных, 24\n"
     ]
    }
   ],
   "source": [
    "print((data['loglikelihood'] < -1500).value_counts())\n",
    "\n",
    "row = data[(data['loglikelihood'] < -1500)].sample(1).iloc[0]\n",
    "\n",
    "\n",
    "print(row.get(\"description\"))"
   ]
  },
  {
   "cell_type": "markdown",
   "metadata": {},
   "source": [
    "Предполагалось, что использование log-likelihood, вычисляемого при помощи предобученной LLM, поможет оценить качество и правдоподобие текстов объявлений. Идея заключалась в том, что тексты с высокой логарифмической вероятностью будут восприниматься моделью как «естественные» и лучше соответствовать стандартам языка, а значит, будут более репрезентативны для обучения.\n",
    "\n",
    "Однако, при применении этого подхода к описаниям товаров выяснилось, что log-likelihood не подходит для адекватной оценки их качества. Модель придает высокие значения логарифмической вероятности текстам, написанным в форме связного повествования или последовательного изложения, без разделения на пункты и перечислений. В то же время объявления, содержащие структурированное описание характеристик товара (например, «размер: 40 см, цвет: синий»), оцениваются как менее правдоподобные. Это связано с тем, что такие тексты, хотя и содержат полезную информацию, сильно отличаются по структуре от обычных повествовательных текстов, на которых обучена модель.   \n",
    "\n",
    "Кроме того, существенно изменилось распределение объявлений по виду и стилю написания: вместо разнообразного набора текстов отобрались только объявления, написанные в форме связного текста, без дополнительных подзаголовков. Это создало перекос в данных и может привести к тому, что дообученная модель будет хуже справляться с текстами, представленными в виде списка характеристик или имеющими другое представление."
   ]
  },
  {
   "cell_type": "code",
   "execution_count": 18,
   "metadata": {},
   "outputs": [
    {
     "name": "stdout",
     "output_type": "stream",
     "text": [
      "Длина description: 1001\n",
      "Lexical diversity: 0.6883852691218131\n",
      "Эллиптический тренажер APPLEGATE E22 M\n",
      " \n",
      "APPLEGATE E22 M с магнитной системой нагружения относится к классу среднегабаритных эллиптических тренажеров для домашнего применения. Его отличает устойчивая рамная конструкция из усиленного профиля, выдерживающая вес пользователя до 130 кг. Система нагружения построена на базе классического заднего привода. Магнитная система нагружения по технологии bio-Flow™ обеспечивает биомеханически правильное педалирование и корректное распределение нагрузки по всей траектории движения. За высокое качество кручения отвечает трехкомпонентный педальный узел и мощный сбалансированный маховик с инерционным весом 22 кг. Длина шага составляет 42 см. Расстояние между педалями (так называемый \"малый Q-Фактор S.Q.F.™\") составляет всего 18 см - это одно из самых минимальных значений для эллипсоидов с задним приводом. Чем меньше такое значение, тем больше тренировка на тренажере приближена к естественным движениям во время бега. \n",
      " \n",
      "Характеристики APPLEGATE E22 M: \n",
      "— Система нагружения: электромагнитная bio-Flow™+\n",
      "— Кол-во уровней нагрузки: 8\n",
      "— Тип рамы: усиленная\n",
      "— Маховик: 22 кг (инерционный вес)\n",
      "— Тип сочленений: втулки и подшипники\n",
      "— Педальный узел: трехкомпонентный\n",
      "— Педали: антискользящие, увеличенного размера\n",
      "— Расстояние между педалями: 18 см (малый Q-Фактор S.Q.F.™)\n",
      "— Система амортизации: нет\n",
      "— Длина шага: 42 см\n",
      "— Регулировка угла наклона: нет\n",
      "— Консоль: черно-белый LCD-дисплей диагональю 9 см\n",
      "— Язык(и) интерфейса: английский\n",
      "— Показания консоли: время, дистанция (за тренировкуобщая), скорость, калории и пульс\n",
      "— Общее количество программ: программы отсутствуют\n",
      "— Тренировочные программы: нет\n",
      "— Пульсозависимые программы: нет\n",
      "— Пользовательские программы: нет\n",
      "— Ватт-программа: нет\n",
      "— Ручной режим: 8 положений магнитной регулировки\n",
      "— Интернет: нет\n",
      "— Интеграционные технологии: нет\n",
      "— Мультимедиа: нет\n",
      "— Разъемы: нет\n",
      "— Измерение пульса: сенсорные датчики\n",
      "— Вентилятор: нет\n",
      "— Макс. вес пользователя: 130 кг\n",
      "— Складывание: нет\n",
      "— Компенсаторы неровностей пола: есть\n",
      "— Транспортировочные ролики: есть\n",
      "— Размер в рабочем состоянии (Д*Ш*В): 153*72*158 см\n",
      "— Размер в сложенном виде (Д*Ш*В): нет\n",
      "— Вес нетто: 45 кг\n",
      "— Питание: не требует подключения к сети\n",
      "— Энергосбережение: есть\n",
      "— Профиль рамы: антикоррозийная обработка, покраска в один слой\n",
      "— Тип пластика: АБС-пластик из исходного сырья\n",
      "— Упаковка: 1 коробка (прочный прессованный картон и пеноплаcтовые формы)\n",
      "— Габариты: 129*31,5*64 см\n",
      "— Объем: 0,26 куб. м\n",
      "— Вес брутто: 53 кг\n",
      "— Производитель: Jörgen Svensson, Швеция\n",
      "— Страна изготовления: КНР\n",
      "**************************************************\n"
     ]
    }
   ],
   "source": [
    "#можно посмотреть на случайные длинные объявления\n",
    "row = data[data['description_tokens'] > 1000].sample(1).iloc[0]\n",
    "# row = data[(data['lexical_diversity'] > 0.6) & (data['lexical_diversity'] < 0.97) & (data['description_tokens'] > 1000)].sample(1).iloc[0]\n",
    "# row = data[data['tfidf_score'] > 13e-5].sample(1).iloc[0]\n",
    "print(f\"Длина description: {row['description_tokens']}\")\n",
    "print(f\"Lexical diversity: {row['lexical_diversity']}\")\n",
    "# print(f\"TF-IDF score: {row['tfidf_score']}\")\n",
    "print(row['description'])\n",
    "print('*'*50)"
   ]
  },
  {
   "cell_type": "code",
   "execution_count": 19,
   "metadata": {},
   "outputs": [
    {
     "data": {
      "text/plain": [
       "31313187"
      ]
     },
     "execution_count": 19,
     "metadata": {},
     "output_type": "execute_result"
    }
   ],
   "source": [
    "data['description_tokens'].sum()"
   ]
  },
  {
   "cell_type": "markdown",
   "metadata": {},
   "source": [
    "Теперь, когда \"плохие\" объявления из выборки для обучения отсеяны, все еще суммарно имеется 40М токенов. Это значительно больше нужного.  \n",
    "Отберем из каждой категории товара 160 случайных объявлений."
   ]
  },
  {
   "cell_type": "code",
   "execution_count": 20,
   "metadata": {},
   "outputs": [
    {
     "data": {
      "text/plain": [
       "{'Автомобили': 5035,\n",
       " 'Аудио и видео': 2209,\n",
       " 'Билеты и путешествия': 913,\n",
       " 'Бытовая техника': 2673,\n",
       " 'Велосипеды': 1474,\n",
       " 'Водный транспорт': 210,\n",
       " 'Гаражи и машиноместа': 42,\n",
       " 'Готовый бизнес': 741,\n",
       " 'Грузовики и спецтехника': 613,\n",
       " 'Детская одежда и обувь': 1490,\n",
       " 'Дома, дачи, коттеджи': 2989,\n",
       " 'Другие животные': 75,\n",
       " 'Земельные участки': 627,\n",
       " 'Игры, приставки и программы': 552,\n",
       " 'Квартиры': 10059,\n",
       " 'Книги и журналы': 626,\n",
       " 'Коллекционирование': 663,\n",
       " 'Коммерческая недвижимость': 703,\n",
       " 'Комнаты': 165,\n",
       " 'Кошки': 185,\n",
       " 'Красота и здоровье': 1974,\n",
       " 'Мебель и интерьер': 3543,\n",
       " 'Мотоциклы и мототехника': 334,\n",
       " 'Музыкальные инструменты': 605,\n",
       " 'Недвижимость за рубежом': 32,\n",
       " 'Оборудование для бизнеса': 2069,\n",
       " 'Одежда, обувь, аксессуары': 2574,\n",
       " 'Оргтехника и расходники': 450,\n",
       " 'Планшеты и электронные книги': 837,\n",
       " 'Посуда и товары для кухни': 322,\n",
       " 'Предложение услуг': 3896,\n",
       " 'Ремонт и строительство': 5534,\n",
       " 'Собаки': 252,\n",
       " 'Спорт и отдых': 2284,\n",
       " 'Телефоны': 3783,\n",
       " 'Товары для детей и игрушки': 8056,\n",
       " 'Товары для компьютера': 2348,\n",
       " 'Фототехника': 848,\n",
       " 'Часы и украшения': 937}"
      ]
     },
     "execution_count": 20,
     "metadata": {},
     "output_type": "execute_result"
    }
   ],
   "source": [
    "categories = data['category_name'].unique()\n",
    "size_dict = data.groupby('category_name').size().to_dict()\n",
    "size_dict"
   ]
  },
  {
   "cell_type": "code",
   "execution_count": 79,
   "metadata": {},
   "outputs": [],
   "source": [
    "categories = data['category_name'].unique()\n",
    "size_dict = data.groupby('category_name').size().to_dict()\n",
    "\n",
    "new_df = pd.DataFrame()\n",
    "for cat in categories:\n",
    "    df= data[data['category_name'] == cat].sample(160 if size_dict[cat] >= 100 else size_dict[cat])\n",
    "    new_df = pd.concat([new_df, df])"
   ]
  },
  {
   "cell_type": "code",
   "execution_count": 80,
   "metadata": {},
   "outputs": [
    {
     "data": {
      "text/plain": [
       "2607588"
      ]
     },
     "execution_count": 80,
     "metadata": {},
     "output_type": "execute_result"
    }
   ],
   "source": [
    "new_df['description_tokens'].sum()"
   ]
  },
  {
   "cell_type": "code",
   "execution_count": 23,
   "metadata": {},
   "outputs": [],
   "source": [
    "token_categories = {}\n",
    "for cat in categories:\n",
    "    token_categories[cat] = new_df[new_df['category_name'] == cat]['description_tokens'].sum()"
   ]
  },
  {
   "cell_type": "code",
   "execution_count": 24,
   "metadata": {},
   "outputs": [
    {
     "data": {
      "text/plain": [
       "{'Товары для компьютера': 77808,\n",
       " 'Комнаты': 52813,\n",
       " 'Предложение услуг': 64931,\n",
       " 'Товары для детей и игрушки': 71067,\n",
       " 'Дома, дачи, коттеджи': 63452,\n",
       " 'Планшеты и электронные книги': 73399,\n",
       " 'Бытовая техника': 65514,\n",
       " 'Аудио и видео': 75804,\n",
       " 'Автомобили': 70740,\n",
       " 'Квартиры': 65022,\n",
       " 'Часы и украшения': 71815,\n",
       " 'Спорт и отдых': 75063,\n",
       " 'Мебель и интерьер': 61772,\n",
       " 'Оборудование для бизнеса': 68148,\n",
       " 'Красота и здоровье': 75127,\n",
       " 'Мотоциклы и мототехника': 70159,\n",
       " 'Ремонт и строительство': 66915,\n",
       " 'Телефоны': 68783,\n",
       " 'Грузовики и спецтехника': 79345,\n",
       " 'Игры, приставки и программы': 76716,\n",
       " 'Детская одежда и обувь': 52536,\n",
       " 'Посуда и товары для кухни': 74400,\n",
       " 'Велосипеды': 70652,\n",
       " 'Земельные участки': 63494,\n",
       " 'Музыкальные инструменты': 73478,\n",
       " 'Готовый бизнес': 85733,\n",
       " 'Одежда, обувь, аксессуары': 60582,\n",
       " 'Водный транспорт': 73712,\n",
       " 'Книги и журналы': 73534,\n",
       " 'Оргтехника и расходники': 81611,\n",
       " 'Коммерческая недвижимость': 63330,\n",
       " 'Билеты и путешествия': 88103,\n",
       " 'Коллекционирование': 72924,\n",
       " 'Кошки': 61220,\n",
       " 'Фототехника': 80945,\n",
       " 'Собаки': 57631,\n",
       " 'Гаражи и машиноместа': 13629,\n",
       " 'Другие животные': 30333,\n",
       " 'Недвижимость за рубежом': 15065}"
      ]
     },
     "execution_count": 24,
     "metadata": {},
     "output_type": "execute_result"
    }
   ],
   "source": [
    "token_categories"
   ]
  },
  {
   "cell_type": "markdown",
   "metadata": {},
   "source": [
    "Распределение токенов по категориям можно считать сбалансированным, за исключением редких категорий, которых в датасете меньше 100."
   ]
  },
  {
   "cell_type": "markdown",
   "metadata": {},
   "source": [
    "Хотим иметь следующую нотацию данных для fine-tune модели. То есть, сохраняем \\n внутри описаний объявления, и разделяем различные поля контекста при помощи специального токена.     \n",
    "Пояснение, почему оставляем \\n внутри описания: если посмотреть на различные объявления, можно заметить, что довольно часто в длинных объявлениях символ переноса строки разделяет разные пункты и категории в описании товара. Удаление этого символа может привести к потере или искажению структуры/смысловой части, приведенной в описании объявления.   "
   ]
  },
  {
   "cell_type": "code",
   "execution_count": 432,
   "metadata": {},
   "outputs": [],
   "source": [
    "# [CATEGORY]: \"Автомобили\" [SEP]\n",
    "# [TITLE]: Продаю автомобиль Шевроле Лачетти [SEP]\n",
    "# [DESCRIPTION]: Автомобиль в хорошем состоянии. Куплен в 2008 году. Пробег 120 000 км. \\n Технически исправен. \\n Недавно заменены все расходники, состояние кузова без нареканий.[SEP]\n",
    "# [ATTRIBUTES]: Тип кузова: Седан \\n Трансмиссия: Автомат \\n Цвет: Черный \\n Пробег: 120 000 км \\n Дополнительные опции: Обогрев сидений, кондиционер, подогрев зеркал.[SEP]\n",
    "# [QUESTION]: Какое состояние автомобиля? [SEP]\n",
    "# [ANSWER]: Автомобиль в хорошем техническом состоянии, недавно заменены все расходники. [SEP]"
   ]
  },
  {
   "cell_type": "code",
   "execution_count": 95,
   "metadata": {},
   "outputs": [
    {
     "data": {
      "text/plain": [
       "[{'category': 'Автомобили',\n",
       "  'title': 'Продается автомобиль Toyota Land Cruiser',\n",
       "  'description': 'Автомобиль в отличном состоянии, полный комплект. Год выпуска — 2018. Пробег — 50 000 км.',\n",
       "  'attributes': 'Цвет: черный, Привод: полный, Коробка: автомат',\n",
       "  'price': 1500000,\n",
       "  'generated_questions': [{'question': 'Какой пробег у автомобиля?',\n",
       "    'answer': 'Пробег автомобиля составляет 50 000 км.'},\n",
       "   {'question': 'В каком состоянии автомобиль?',\n",
       "    'answer': 'Автомобиль в отличном состоянии.'}]},\n",
       " Ellipsis]"
      ]
     },
     "execution_count": 95,
     "metadata": {},
     "output_type": "execute_result"
    }
   ],
   "source": [
    "# хотим получить обучающую выборку в json, в соответствии со следующим форматом:\n",
    "[\n",
    "  {\n",
    "    \"category\": \"Автомобили\",\n",
    "    \"title\": \"Продается автомобиль Toyota Land Cruiser\",\n",
    "    \"description\": \"Автомобиль в отличном состоянии, полный комплект. Год выпуска — 2018. Пробег — 50 000 км.\",\n",
    "    \"attributes\": \"Цвет: черный, Привод: полный, Коробка: автомат\",\n",
    "    \"price\": 1500000,\n",
    "    \"generated_questions\": [\n",
    "      {\n",
    "        \"question\": \"Какой пробег у автомобиля?\",\n",
    "        \"answer\": \"Пробег автомобиля составляет 50 000 км.\"\n",
    "      },\n",
    "      {\n",
    "        \"question\": \"В каком состоянии автомобиль?\",\n",
    "        \"answer\": \"Автомобиль в отличном состоянии.\"\n",
    "      }\n",
    "    ]\n",
    "  },\n",
    "  ...\n",
    "]"
   ]
  },
  {
   "cell_type": "code",
   "execution_count": 81,
   "metadata": {},
   "outputs": [],
   "source": [
    "def create_attributes(row):\n",
    "    attributes = [row.get('param_1', ''), row.get('param_2', ''), row.get('param_3', '')]\n",
    "    return \", \".join(filter(lambda x: pd.notnull(x) and x != '', attributes))\n",
    "\n",
    "new_df['attributes'] = new_df.apply(create_attributes, axis=1)\n",
    "final_df = new_df[['category_name', 'title', 'description', 'attributes', 'price']]\n",
    "json_data = final_df.to_dict(orient='records')\n"
   ]
  },
  {
   "cell_type": "code",
   "execution_count": 82,
   "metadata": {},
   "outputs": [],
   "source": [
    "import json\n",
    "with open('train_processed.json', 'w', encoding='utf-8') as f:\n",
    "    json.dump(json_data, f, indent=4, ensure_ascii=False)"
   ]
  },
  {
   "cell_type": "code",
   "execution_count": 26,
   "metadata": {},
   "outputs": [
    {
     "data": {
      "text/html": [
       "<div>\n",
       "<style scoped>\n",
       "    .dataframe tbody tr th:only-of-type {\n",
       "        vertical-align: middle;\n",
       "    }\n",
       "\n",
       "    .dataframe tbody tr th {\n",
       "        vertical-align: top;\n",
       "    }\n",
       "\n",
       "    .dataframe thead th {\n",
       "        text-align: right;\n",
       "    }\n",
       "</style>\n",
       "<table border=\"1\" class=\"dataframe\">\n",
       "  <thead>\n",
       "    <tr style=\"text-align: right;\">\n",
       "      <th></th>\n",
       "      <th>category_name</th>\n",
       "      <th>title</th>\n",
       "      <th>description</th>\n",
       "      <th>attributes</th>\n",
       "      <th>price</th>\n",
       "    </tr>\n",
       "  </thead>\n",
       "  <tbody>\n",
       "    <tr>\n",
       "      <th>995957</th>\n",
       "      <td>Товары для компьютера</td>\n",
       "      <td>Матрица 15.6 бу</td>\n",
       "      <td>ltn156at30 15,6\" Совместимость матриц LED 1366...</td>\n",
       "      <td>Мониторы</td>\n",
       "      <td>NaN</td>\n",
       "    </tr>\n",
       "    <tr>\n",
       "      <th>808443</th>\n",
       "      <td>Товары для компьютера</td>\n",
       "      <td>Монитор</td>\n",
       "      <td>Характеристики\\nОбщие характеристики\\nТип\\nЖК-...</td>\n",
       "      <td>Мониторы</td>\n",
       "      <td>5000.0</td>\n",
       "    </tr>\n",
       "    <tr>\n",
       "      <th>347697</th>\n",
       "      <td>Товары для компьютера</td>\n",
       "      <td>Intel Xeon E5430 - на LGA775</td>\n",
       "      <td>Intel Xeon E5430 2.66 GHz 4core 12Mb L2 80W 13...</td>\n",
       "      <td>Комплектующие, Процессоры</td>\n",
       "      <td>1000.0</td>\n",
       "    </tr>\n",
       "    <tr>\n",
       "      <th>33458</th>\n",
       "      <td>Товары для компьютера</td>\n",
       "      <td>Продаю связку с Intel Core i7-6700 Skylake</td>\n",
       "      <td>Продаю связку для сборки системного блока игро...</td>\n",
       "      <td>Комплектующие, Процессоры</td>\n",
       "      <td>39000.0</td>\n",
       "    </tr>\n",
       "    <tr>\n",
       "      <th>1308711</th>\n",
       "      <td>Товары для компьютера</td>\n",
       "      <td>Видеокарта nvidia GeForce GTX 960 (4 GB)</td>\n",
       "      <td>Точное название видеокарты - GIGABYTE GeForce ...</td>\n",
       "      <td>Комплектующие, Видеокарты</td>\n",
       "      <td>15000.0</td>\n",
       "    </tr>\n",
       "    <tr>\n",
       "      <th>...</th>\n",
       "      <td>...</td>\n",
       "      <td>...</td>\n",
       "      <td>...</td>\n",
       "      <td>...</td>\n",
       "      <td>...</td>\n",
       "    </tr>\n",
       "    <tr>\n",
       "      <th>547482</th>\n",
       "      <td>Недвижимость за рубежом</td>\n",
       "      <td>Квартира (Испания)</td>\n",
       "      <td>Без посредников сдаю 1 паре посуточно комнату ...</td>\n",
       "      <td>Сдам, Квартира, апартаменты, Посуточно</td>\n",
       "      <td>2400.0</td>\n",
       "    </tr>\n",
       "    <tr>\n",
       "      <th>438038</th>\n",
       "      <td>Недвижимость за рубежом</td>\n",
       "      <td>Дом (Украина)</td>\n",
       "      <td>Продаю капитальный трёхэтажный дом, с подсобны...</td>\n",
       "      <td>Продам, Дом, вилла, Украина</td>\n",
       "      <td>4300000.0</td>\n",
       "    </tr>\n",
       "    <tr>\n",
       "      <th>42114</th>\n",
       "      <td>Недвижимость за рубежом</td>\n",
       "      <td>Квартира (Таиланд)</td>\n",
       "      <td>Продается квартира в Condominium Nam Nalay в Ю...</td>\n",
       "      <td>Продам, Квартира, апартаменты, Таиланд</td>\n",
       "      <td>1850000.0</td>\n",
       "    </tr>\n",
       "    <tr>\n",
       "      <th>391349</th>\n",
       "      <td>Недвижимость за рубежом</td>\n",
       "      <td>Дом (Германия)</td>\n",
       "      <td>Вилла класса Люкс в Берлине – Целендорф. Цена ...</td>\n",
       "      <td>Продам, Дом, вилла, Германия</td>\n",
       "      <td>370000000.0</td>\n",
       "    </tr>\n",
       "    <tr>\n",
       "      <th>1003673</th>\n",
       "      <td>Недвижимость за рубежом</td>\n",
       "      <td>Дом (Черногория)</td>\n",
       "      <td>Продается прекрасная вилла в спокойной части г...</td>\n",
       "      <td>Продам, Дом, вилла, Черногория</td>\n",
       "      <td>49000000.0</td>\n",
       "    </tr>\n",
       "  </tbody>\n",
       "</table>\n",
       "<p>5909 rows × 5 columns</p>\n",
       "</div>"
      ],
      "text/plain": [
       "                   category_name                                       title  \\\n",
       "995957     Товары для компьютера                             Матрица 15.6 бу   \n",
       "808443     Товары для компьютера                                     Монитор   \n",
       "347697     Товары для компьютера                Intel Xeon E5430 - на LGA775   \n",
       "33458      Товары для компьютера  Продаю связку с Intel Core i7-6700 Skylake   \n",
       "1308711    Товары для компьютера    Видеокарта nvidia GeForce GTX 960 (4 GB)   \n",
       "...                          ...                                         ...   \n",
       "547482   Недвижимость за рубежом                          Квартира (Испания)   \n",
       "438038   Недвижимость за рубежом                               Дом (Украина)   \n",
       "42114    Недвижимость за рубежом                          Квартира (Таиланд)   \n",
       "391349   Недвижимость за рубежом                              Дом (Германия)   \n",
       "1003673  Недвижимость за рубежом                            Дом (Черногория)   \n",
       "\n",
       "                                               description  \\\n",
       "995957   ltn156at30 15,6\" Совместимость матриц LED 1366...   \n",
       "808443   Характеристики\\nОбщие характеристики\\nТип\\nЖК-...   \n",
       "347697   Intel Xeon E5430 2.66 GHz 4core 12Mb L2 80W 13...   \n",
       "33458    Продаю связку для сборки системного блока игро...   \n",
       "1308711  Точное название видеокарты - GIGABYTE GeForce ...   \n",
       "...                                                    ...   \n",
       "547482   Без посредников сдаю 1 паре посуточно комнату ...   \n",
       "438038   Продаю капитальный трёхэтажный дом, с подсобны...   \n",
       "42114    Продается квартира в Condominium Nam Nalay в Ю...   \n",
       "391349   Вилла класса Люкс в Берлине – Целендорф. Цена ...   \n",
       "1003673  Продается прекрасная вилла в спокойной части г...   \n",
       "\n",
       "                                     attributes        price  \n",
       "995957                                 Мониторы          NaN  \n",
       "808443                                 Мониторы       5000.0  \n",
       "347697                Комплектующие, Процессоры       1000.0  \n",
       "33458                 Комплектующие, Процессоры      39000.0  \n",
       "1308711               Комплектующие, Видеокарты      15000.0  \n",
       "...                                         ...          ...  \n",
       "547482   Сдам, Квартира, апартаменты, Посуточно       2400.0  \n",
       "438038              Продам, Дом, вилла, Украина    4300000.0  \n",
       "42114    Продам, Квартира, апартаменты, Таиланд    1850000.0  \n",
       "391349             Продам, Дом, вилла, Германия  370000000.0  \n",
       "1003673          Продам, Дом, вилла, Черногория   49000000.0  \n",
       "\n",
       "[5909 rows x 5 columns]"
      ]
     },
     "execution_count": 26,
     "metadata": {},
     "output_type": "execute_result"
    }
   ],
   "source": [
    "final_df"
   ]
  },
  {
   "cell_type": "code",
   "execution_count": 70,
   "metadata": {},
   "outputs": [
    {
     "name": "stdout",
     "output_type": "stream",
     "text": [
      "Index([1209916], dtype='int64')\n",
      "Только у нас\n",
      " \n",
      "→ Большой выбор различных принтеров, мфу\n",
      " \n",
      "→ Самые низкие цены в городе ✔\n",
      " \n",
      "→ Предостовляем гарантию на данный товар ✔\n",
      " \n",
      " \n",
      " \n",
      " ♛Принимаем оплату банковскими картами visa, Master Card !\n",
      " \n",
      " ♛Отправляем в регионы !\n",
      " \n",
      "Общие характеристики\n",
      "Устройство: принтер\n",
      "Тип печати: черно-белая\n",
      "Технология печати: лазерная\n",
      "Размещение: настольный\n",
      "Область применения: средний офис\n",
      "Количество страниц в месяц: 650\n",
      "Принтер\n",
      "Максимальный формат: A3\n",
      "Максимальное разрешение для чб печати: 1200x1200 dpi\n",
      "Скорость печати: 35 стрмин (чб А4)\n",
      "Время выхода первого отпечатка: 10 c (чб)\n",
      "Лотки\n",
      "Подача бумаги: 850 лист. (стандартная)\n",
      "Вывод бумаги: 250 лист. (стандартный)\n",
      "Расходные материалы\n",
      "Плотность бумаги: 60-199 гм2\n",
      "Печать на: пленках, этикетках, фотобумаге, глянцевой бумаге, конвертах, матовой бумаге\n",
      "Тип картриджатонера: Q7516A\n",
      "ПамятьПроцессор\n",
      "Объем памяти: 64 Мб, максимальный 512 Мб \n",
      "Процессор: MIPS\n",
      "Частота процессора: 240 МГц\n",
      "Интерфейсы\n",
      "Ethernet (RJ-45), LPT, USB 2.0\n",
      " \n",
      "КООРДИНАТЫ \n",
      "— НАШ АДРЕС г.Краснодар ул.Октябрьская 163 ✌\n",
      "⇉⋘Не забывай и не перепутай адрес⋙⇇\n"
     ]
    }
   ],
   "source": [
    "row = final_df.sample(1)\n",
    "print(row.index)\n",
    "print(row.iloc[0].get(\"description\"))"
   ]
  },
  {
   "cell_type": "code",
   "execution_count": null,
   "metadata": {},
   "outputs": [],
   "source": []
  },
  {
   "cell_type": "code",
   "execution_count": null,
   "metadata": {},
   "outputs": [],
   "source": []
  },
  {
   "cell_type": "code",
   "execution_count": null,
   "metadata": {},
   "outputs": [],
   "source": []
  },
  {
   "cell_type": "code",
   "execution_count": null,
   "metadata": {},
   "outputs": [],
   "source": [
    "import json\n",
    "import tiktoken\n",
    "import numpy as np\n",
    "\n",
    "tokenizer = tiktoken.encoding_for_model('gpt-4')\n",
    "def calculate_tokens(entry):\n",
    "    text = (f\"Category: {entry['category_name']}\\n\"\n",
    "            f\"Title: {entry['title']}\\n\"\n",
    "            f\"Description: {entry['description']}\\n\"\n",
    "            f\"Attributes: {entry['attributes']}\\n\"\n",
    "            f\"Price: {entry['price']}\")\n",
    "    tokens = tokenizer.encode(text)\n",
    "    return len(tokens)\n",
    "\n",
    "\n",
    "def calculate_percentiles(data):\n",
    "    token_counts = [calculate_tokens(entry) for entry in data]\n",
    "    sorted_token_counts = np.sort(token_counts)\n",
    "    return token_counts, sorted_token_counts\n",
    "\n",
    "\n",
    "with open('processed_data.json', 'r', encoding='utf-8') as file:\n",
    "    data = json.load(file)\n",
    "\n",
    "token_counts, sorted_token_counts = calculate_percentiles(data)\n",
    "total_entries = len(data)\n"
   ]
  },
  {
   "cell_type": "code",
   "execution_count": 103,
   "metadata": {},
   "outputs": [
    {
     "data": {
      "image/png": "[encoded data removed]",
      "text/plain": [
       "<Figure size 1000x600 with 1 Axes>"
      ]
     },
     "metadata": {},
     "output_type": "display_data"
    }
   ],
   "source": [
    "import matplotlib.pyplot as plt\n",
    "plt.figure(figsize=(10, 6))\n",
    "plt.hist(token_counts, bins=20, edgecolor='black', color='lightblue')\n",
    "plt.title('Распределение количества токенов в документах')\n",
    "plt.xlabel('Количество токенов')\n",
    "plt.ylabel('Частота (Количество документов)')\n",
    "plt.grid(True)\n",
    "\n",
    "plt.show()\n"
   ]
  }
 ],
 "metadata": {
  "kernelspec": {
   "display_name": "torchenv",
   "language": "python",
   "name": "torchenv"
  },
  "language_info": {
   "codemirror_mode": {
    "name": "ipython",
    "version": 3
   },
   "file_extension": ".py",
   "mimetype": "text/x-python",
   "name": "python",
   "nbconvert_exporter": "python",
   "pygments_lexer": "ipython3",
   "version": "3.10.12"
  }
 },
 "nbformat": 4,
 "nbformat_minor": 2
}
